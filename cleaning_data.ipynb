{
 "cells": [
  {
   "cell_type": "markdown",
   "metadata": {},
   "source": [
    "# Cleaning data"
   ]
  },
  {
   "cell_type": "markdown",
   "metadata": {},
   "source": [
    "Loading the basic data for the analysis into a DataFrame:"
   ]
  },
  {
   "cell_type": "code",
   "execution_count": 1,
   "metadata": {},
   "outputs": [],
   "source": [
    "import pandas as pd\n",
    "\n",
    "df = pd.read_csv('data/raw/top_movies.csv') # read csv file"
   ]
  },
  {
   "cell_type": "markdown",
   "metadata": {},
   "source": [
    "Standarize the column's names."
   ]
  },
  {
   "cell_type": "code",
   "execution_count": 2,
   "metadata": {},
   "outputs": [],
   "source": [
    "df.columns = df.columns.str.lower().str.replace(' ', '_')\n",
    "df = df.rename(columns={'moive_name': 'title'})"
   ]
  },
  {
   "cell_type": "markdown",
   "metadata": {},
   "source": [
    "Remove what is not useful for the analysis:"
   ]
  },
  {
   "cell_type": "code",
   "execution_count": 3,
   "metadata": {},
   "outputs": [],
   "source": [
    "df = df.dropna(subset=['cast', 'director'])"
   ]
  },
  {
   "cell_type": "code",
   "execution_count": 4,
   "metadata": {},
   "outputs": [],
   "source": [
    "df = df.drop(columns = ['unnamed:_0', 'votes', 'pg_rating', 'duration'])"
   ]
  },
  {
   "cell_type": "markdown",
   "metadata": {},
   "source": [
    "Convert 'genre' and 'cast' columns into lists for best understanding of the data:"
   ]
  },
  {
   "cell_type": "code",
   "execution_count": 5,
   "metadata": {},
   "outputs": [],
   "source": [
    "df['genre'] = df['genre'].apply(lambda x: x.split(', '))\n",
    "df['cast'] = df['cast'].apply(lambda x: x.split(', '))"
   ]
  },
  {
   "cell_type": "markdown",
   "metadata": {},
   "source": [
    "Last check to the DataFrame:"
   ]
  },
  {
   "cell_type": "code",
   "execution_count": 6,
   "metadata": {},
   "outputs": [
    {
     "data": {
      "text/plain": [
       "title          object\n",
       "rating        float64\n",
       "meta_score    float64\n",
       "genre          object\n",
       "year            int64\n",
       "cast           object\n",
       "director       object\n",
       "dtype: object"
      ]
     },
     "execution_count": 6,
     "metadata": {},
     "output_type": "execute_result"
    }
   ],
   "source": [
    "df.dtypes"
   ]
  },
  {
   "cell_type": "code",
   "execution_count": 7,
   "metadata": {},
   "outputs": [
    {
     "data": {
      "text/html": [
       "<div>\n",
       "<style scoped>\n",
       "    .dataframe tbody tr th:only-of-type {\n",
       "        vertical-align: middle;\n",
       "    }\n",
       "\n",
       "    .dataframe tbody tr th {\n",
       "        vertical-align: top;\n",
       "    }\n",
       "\n",
       "    .dataframe thead th {\n",
       "        text-align: right;\n",
       "    }\n",
       "</style>\n",
       "<table border=\"1\" class=\"dataframe\">\n",
       "  <thead>\n",
       "    <tr style=\"text-align: right;\">\n",
       "      <th></th>\n",
       "      <th>title</th>\n",
       "      <th>rating</th>\n",
       "      <th>meta_score</th>\n",
       "      <th>genre</th>\n",
       "      <th>year</th>\n",
       "      <th>cast</th>\n",
       "      <th>director</th>\n",
       "    </tr>\n",
       "  </thead>\n",
       "  <tbody>\n",
       "    <tr>\n",
       "      <th>1360</th>\n",
       "      <td>Fresh</td>\n",
       "      <td>6.7</td>\n",
       "      <td>67.0</td>\n",
       "      <td>[Horror, Thriller]</td>\n",
       "      <td>2022</td>\n",
       "      <td>[Daisy Edgar-Jones, Sebastian Stan, Jojo T. Gi...</td>\n",
       "      <td>Mimi Cave</td>\n",
       "    </tr>\n",
       "    <tr>\n",
       "      <th>911</th>\n",
       "      <td>In Bruges</td>\n",
       "      <td>7.9</td>\n",
       "      <td>67.0</td>\n",
       "      <td>[Comedy, Crime, Drama]</td>\n",
       "      <td>2008</td>\n",
       "      <td>[Colin Farrell, Brendan Gleeson, Ciarán Hinds,...</td>\n",
       "      <td>Martin McDonagh</td>\n",
       "    </tr>\n",
       "    <tr>\n",
       "      <th>611</th>\n",
       "      <td>Guillermo del Toro's Pinocchio</td>\n",
       "      <td>7.6</td>\n",
       "      <td>79.0</td>\n",
       "      <td>[Animation, Drama, Family]</td>\n",
       "      <td>2022</td>\n",
       "      <td>[Ewan McGregor, David Bradley, Gregory Mann, B...</td>\n",
       "      <td>Guillermo del ToroMark Gustafson</td>\n",
       "    </tr>\n",
       "    <tr>\n",
       "      <th>1758</th>\n",
       "      <td>Red Dragon</td>\n",
       "      <td>7.2</td>\n",
       "      <td>60.0</td>\n",
       "      <td>[Crime, Drama, Thriller]</td>\n",
       "      <td>2002</td>\n",
       "      <td>[Anthony Hopkins, Edward Norton, Ralph Fiennes...</td>\n",
       "      <td>Brett Ratner</td>\n",
       "    </tr>\n",
       "    <tr>\n",
       "      <th>1819</th>\n",
       "      <td>Big George Foreman</td>\n",
       "      <td>6.6</td>\n",
       "      <td>45.0</td>\n",
       "      <td>[Biography, Drama, Sport]</td>\n",
       "      <td>2023</td>\n",
       "      <td>[Khris Davis, Jasmine Mathews, Sullivan Jones,...</td>\n",
       "      <td>George Tillman Jr.</td>\n",
       "    </tr>\n",
       "    <tr>\n",
       "      <th>347</th>\n",
       "      <td>Knives Out</td>\n",
       "      <td>7.9</td>\n",
       "      <td>82.0</td>\n",
       "      <td>[Comedy, Crime, Drama]</td>\n",
       "      <td>2019</td>\n",
       "      <td>[Daniel Craig, Chris Evans, Ana de Armas, Jami...</td>\n",
       "      <td>Rian Johnson</td>\n",
       "    </tr>\n",
       "    <tr>\n",
       "      <th>340</th>\n",
       "      <td>Fast Times at Ridgemont High</td>\n",
       "      <td>7.1</td>\n",
       "      <td>61.0</td>\n",
       "      <td>[Comedy, Drama]</td>\n",
       "      <td>1982</td>\n",
       "      <td>[Sean Penn, Jennifer Jason Leigh, Judge Reinho...</td>\n",
       "      <td>Amy Heckerling</td>\n",
       "    </tr>\n",
       "    <tr>\n",
       "      <th>198</th>\n",
       "      <td>Old Dads</td>\n",
       "      <td>6.2</td>\n",
       "      <td>42.0</td>\n",
       "      <td>[Comedy]</td>\n",
       "      <td>2023</td>\n",
       "      <td>[Bill Burr, Bobby Cannavale, Bokeem Woodbine, ...</td>\n",
       "      <td>Bill Burr</td>\n",
       "    </tr>\n",
       "    <tr>\n",
       "      <th>149</th>\n",
       "      <td>Godzilla</td>\n",
       "      <td>6.4</td>\n",
       "      <td>62.0</td>\n",
       "      <td>[Action, Adventure, Sci-Fi]</td>\n",
       "      <td>2014</td>\n",
       "      <td>[Aaron Taylor-Johnson, Elizabeth Olsen, Bryan ...</td>\n",
       "      <td>Gareth Edwards</td>\n",
       "    </tr>\n",
       "    <tr>\n",
       "      <th>1060</th>\n",
       "      <td>A Merry Friggin' Christmas</td>\n",
       "      <td>5.1</td>\n",
       "      <td>28.0</td>\n",
       "      <td>[Comedy, Drama]</td>\n",
       "      <td>2014</td>\n",
       "      <td>[Joel McHale, Lauren Graham, Clark Duke, Olive...</td>\n",
       "      <td>Tristram Shapeero</td>\n",
       "    </tr>\n",
       "  </tbody>\n",
       "</table>\n",
       "</div>"
      ],
      "text/plain": [
       "                                title  rating  meta_score  \\\n",
       "1360                            Fresh     6.7        67.0   \n",
       "911                         In Bruges     7.9        67.0   \n",
       "611    Guillermo del Toro's Pinocchio     7.6        79.0   \n",
       "1758                       Red Dragon     7.2        60.0   \n",
       "1819               Big George Foreman     6.6        45.0   \n",
       "347                        Knives Out     7.9        82.0   \n",
       "340      Fast Times at Ridgemont High     7.1        61.0   \n",
       "198                          Old Dads     6.2        42.0   \n",
       "149                          Godzilla     6.4        62.0   \n",
       "1060       A Merry Friggin' Christmas     5.1        28.0   \n",
       "\n",
       "                            genre  year  \\\n",
       "1360           [Horror, Thriller]  2022   \n",
       "911        [Comedy, Crime, Drama]  2008   \n",
       "611    [Animation, Drama, Family]  2022   \n",
       "1758     [Crime, Drama, Thriller]  2002   \n",
       "1819    [Biography, Drama, Sport]  2023   \n",
       "347        [Comedy, Crime, Drama]  2019   \n",
       "340               [Comedy, Drama]  1982   \n",
       "198                      [Comedy]  2023   \n",
       "149   [Action, Adventure, Sci-Fi]  2014   \n",
       "1060              [Comedy, Drama]  2014   \n",
       "\n",
       "                                                   cast  \\\n",
       "1360  [Daisy Edgar-Jones, Sebastian Stan, Jojo T. Gi...   \n",
       "911   [Colin Farrell, Brendan Gleeson, Ciarán Hinds,...   \n",
       "611   [Ewan McGregor, David Bradley, Gregory Mann, B...   \n",
       "1758  [Anthony Hopkins, Edward Norton, Ralph Fiennes...   \n",
       "1819  [Khris Davis, Jasmine Mathews, Sullivan Jones,...   \n",
       "347   [Daniel Craig, Chris Evans, Ana de Armas, Jami...   \n",
       "340   [Sean Penn, Jennifer Jason Leigh, Judge Reinho...   \n",
       "198   [Bill Burr, Bobby Cannavale, Bokeem Woodbine, ...   \n",
       "149   [Aaron Taylor-Johnson, Elizabeth Olsen, Bryan ...   \n",
       "1060  [Joel McHale, Lauren Graham, Clark Duke, Olive...   \n",
       "\n",
       "                              director  \n",
       "1360                         Mimi Cave  \n",
       "911                    Martin McDonagh  \n",
       "611   Guillermo del ToroMark Gustafson  \n",
       "1758                      Brett Ratner  \n",
       "1819                George Tillman Jr.  \n",
       "347                       Rian Johnson  \n",
       "340                     Amy Heckerling  \n",
       "198                          Bill Burr  \n",
       "149                     Gareth Edwards  \n",
       "1060                 Tristram Shapeero  "
      ]
     },
     "execution_count": 7,
     "metadata": {},
     "output_type": "execute_result"
    }
   ],
   "source": [
    "df.sample(10)"
   ]
  },
  {
   "cell_type": "markdown",
   "metadata": {},
   "source": [
    "## Revenue DataFrame"
   ]
  },
  {
   "cell_type": "markdown",
   "metadata": {},
   "source": [
    "Load the dataframe with the movie titles and the profit they have obtained:"
   ]
  },
  {
   "cell_type": "code",
   "execution_count": 8,
   "metadata": {},
   "outputs": [],
   "source": [
    "revenue_df = pd.read_csv('data/raw/revenue_movies_dataset.csv') # read csv file"
   ]
  },
  {
   "cell_type": "markdown",
   "metadata": {},
   "source": [
    "Standarize the names of the movies to be able to merge the dataframes on the 'title' column."
   ]
  },
  {
   "cell_type": "code",
   "execution_count": 9,
   "metadata": {},
   "outputs": [],
   "source": [
    "def clean_title(title):\n",
    "    # Convertir a minúsculas\n",
    "    title = title.lower()\n",
    "    # Eliminar espacios en blanco al principio y al final\n",
    "    title = title.strip()\n",
    "    # Reemplazar caracteres especiales (opcional, depende de tus datos)\n",
    "    title = title.replace(\"'\", \"\")  # Eliminar apóstrofes\n",
    "    title = title.replace(\":\", \"\")  # Eliminar dos puntos\n",
    "    return title\n",
    "\n",
    "# Aplicar la función de limpieza en ambas columnas 'title'\n",
    "df['title'] = df['title'].apply(clean_title)\n",
    "revenue_df['title'] = revenue_df['title'].apply(clean_title)"
   ]
  },
  {
   "cell_type": "markdown",
   "metadata": {},
   "source": [
    "Clean the revenue DataFrame:"
   ]
  },
  {
   "cell_type": "code",
   "execution_count": 10,
   "metadata": {},
   "outputs": [],
   "source": [
    "revenue_df.drop_duplicates(subset='title', inplace=True)"
   ]
  },
  {
   "cell_type": "markdown",
   "metadata": {},
   "source": [
    "Merge both to obtain a complete DataFrame with all the necessary information about the movies, including their revenue."
   ]
  },
  {
   "cell_type": "code",
   "execution_count": 11,
   "metadata": {},
   "outputs": [
    {
     "data": {
      "text/html": [
       "<div>\n",
       "<style scoped>\n",
       "    .dataframe tbody tr th:only-of-type {\n",
       "        vertical-align: middle;\n",
       "    }\n",
       "\n",
       "    .dataframe tbody tr th {\n",
       "        vertical-align: top;\n",
       "    }\n",
       "\n",
       "    .dataframe thead th {\n",
       "        text-align: right;\n",
       "    }\n",
       "</style>\n",
       "<table border=\"1\" class=\"dataframe\">\n",
       "  <thead>\n",
       "    <tr style=\"text-align: right;\">\n",
       "      <th></th>\n",
       "      <th>title</th>\n",
       "      <th>rating</th>\n",
       "      <th>meta_score</th>\n",
       "      <th>genre</th>\n",
       "      <th>year</th>\n",
       "      <th>cast</th>\n",
       "      <th>director</th>\n",
       "      <th>revenue</th>\n",
       "    </tr>\n",
       "  </thead>\n",
       "  <tbody>\n",
       "    <tr>\n",
       "      <th>922</th>\n",
       "      <td>white chicks</td>\n",
       "      <td>5.8</td>\n",
       "      <td>41.0</td>\n",
       "      <td>[Comedy, Crime]</td>\n",
       "      <td>2004</td>\n",
       "      <td>[Marlon Wayans, Shawn Wayans, Busy Philipps, M...</td>\n",
       "      <td>Keenen Ivory Wayans</td>\n",
       "      <td>113086475</td>\n",
       "    </tr>\n",
       "    <tr>\n",
       "      <th>1748</th>\n",
       "      <td>san andreas</td>\n",
       "      <td>6.1</td>\n",
       "      <td>43.0</td>\n",
       "      <td>[Action, Adventure, Thriller]</td>\n",
       "      <td>2015</td>\n",
       "      <td>[Dwayne Johnson, Carla Gugino, Alexandra Dadda...</td>\n",
       "      <td>Brad Peyton</td>\n",
       "      <td>473990832</td>\n",
       "    </tr>\n",
       "    <tr>\n",
       "      <th>954</th>\n",
       "      <td>the cook, the thief, his wife &amp; her lover</td>\n",
       "      <td>7.5</td>\n",
       "      <td>62.0</td>\n",
       "      <td>[Crime, Drama]</td>\n",
       "      <td>1989</td>\n",
       "      <td>[Richard Bohringer, Michael Gambon, Helen Mirr...</td>\n",
       "      <td>Peter Greenaway</td>\n",
       "      <td>7724701</td>\n",
       "    </tr>\n",
       "    <tr>\n",
       "      <th>37</th>\n",
       "      <td>its a wonderful life</td>\n",
       "      <td>8.6</td>\n",
       "      <td>89.0</td>\n",
       "      <td>[Drama, Family, Fantasy]</td>\n",
       "      <td>1946</td>\n",
       "      <td>[James Stewart, Donna Reed, Lionel Barrymore, ...</td>\n",
       "      <td>Frank Capra</td>\n",
       "      <td>9644124</td>\n",
       "    </tr>\n",
       "    <tr>\n",
       "      <th>731</th>\n",
       "      <td>little children</td>\n",
       "      <td>7.5</td>\n",
       "      <td>75.0</td>\n",
       "      <td>[Drama, Romance]</td>\n",
       "      <td>2006</td>\n",
       "      <td>[Kate Winslet, Jennifer Connelly, Patrick Wils...</td>\n",
       "      <td>Todd Field</td>\n",
       "      <td>14821658</td>\n",
       "    </tr>\n",
       "    <tr>\n",
       "      <th>970</th>\n",
       "      <td>traffic</td>\n",
       "      <td>7.6</td>\n",
       "      <td>86.0</td>\n",
       "      <td>[Crime, Drama, Thriller]</td>\n",
       "      <td>2000</td>\n",
       "      <td>[Michael Douglas, Benicio Del Toro, Catherine ...</td>\n",
       "      <td>Steven Soderbergh</td>\n",
       "      <td>207515725</td>\n",
       "    </tr>\n",
       "    <tr>\n",
       "      <th>355</th>\n",
       "      <td>the christmas chronicles part two</td>\n",
       "      <td>6.0</td>\n",
       "      <td>51.0</td>\n",
       "      <td>[Adventure, Comedy, Family]</td>\n",
       "      <td>2020</td>\n",
       "      <td>[Kurt Russell, Goldie Hawn, Darby Camp, Julian...</td>\n",
       "      <td>Chris Columbus</td>\n",
       "      <td>0</td>\n",
       "    </tr>\n",
       "    <tr>\n",
       "      <th>628</th>\n",
       "      <td>the perks of being a wallflower</td>\n",
       "      <td>7.9</td>\n",
       "      <td>67.0</td>\n",
       "      <td>[Drama]</td>\n",
       "      <td>2012</td>\n",
       "      <td>[Logan Lerman, Emma Watson, Ezra Miller, Paul ...</td>\n",
       "      <td>Stephen Chbosky</td>\n",
       "      <td>33400000</td>\n",
       "    </tr>\n",
       "    <tr>\n",
       "      <th>776</th>\n",
       "      <td>love again</td>\n",
       "      <td>5.9</td>\n",
       "      <td>32.0</td>\n",
       "      <td>[Comedy, Drama, Romance]</td>\n",
       "      <td>2023</td>\n",
       "      <td>[Priyanka Chopra Jonas, Sam Heughan, Céline Di...</td>\n",
       "      <td>Jim Strouse</td>\n",
       "      <td>10000000</td>\n",
       "    </tr>\n",
       "    <tr>\n",
       "      <th>530</th>\n",
       "      <td>zodiac</td>\n",
       "      <td>7.7</td>\n",
       "      <td>79.0</td>\n",
       "      <td>[Crime, Drama, Mystery]</td>\n",
       "      <td>2007</td>\n",
       "      <td>[Jake Gyllenhaal, Robert Downey Jr., Mark Ruff...</td>\n",
       "      <td>David Fincher</td>\n",
       "      <td>84785914</td>\n",
       "    </tr>\n",
       "  </tbody>\n",
       "</table>\n",
       "</div>"
      ],
      "text/plain": [
       "                                          title  rating  meta_score  \\\n",
       "922                                white chicks     5.8        41.0   \n",
       "1748                                san andreas     6.1        43.0   \n",
       "954   the cook, the thief, his wife & her lover     7.5        62.0   \n",
       "37                         its a wonderful life     8.6        89.0   \n",
       "731                             little children     7.5        75.0   \n",
       "970                                     traffic     7.6        86.0   \n",
       "355           the christmas chronicles part two     6.0        51.0   \n",
       "628             the perks of being a wallflower     7.9        67.0   \n",
       "776                                  love again     5.9        32.0   \n",
       "530                                      zodiac     7.7        79.0   \n",
       "\n",
       "                              genre  year  \\\n",
       "922                 [Comedy, Crime]  2004   \n",
       "1748  [Action, Adventure, Thriller]  2015   \n",
       "954                  [Crime, Drama]  1989   \n",
       "37         [Drama, Family, Fantasy]  1946   \n",
       "731                [Drama, Romance]  2006   \n",
       "970        [Crime, Drama, Thriller]  2000   \n",
       "355     [Adventure, Comedy, Family]  2020   \n",
       "628                         [Drama]  2012   \n",
       "776        [Comedy, Drama, Romance]  2023   \n",
       "530         [Crime, Drama, Mystery]  2007   \n",
       "\n",
       "                                                   cast             director  \\\n",
       "922   [Marlon Wayans, Shawn Wayans, Busy Philipps, M...  Keenen Ivory Wayans   \n",
       "1748  [Dwayne Johnson, Carla Gugino, Alexandra Dadda...          Brad Peyton   \n",
       "954   [Richard Bohringer, Michael Gambon, Helen Mirr...      Peter Greenaway   \n",
       "37    [James Stewart, Donna Reed, Lionel Barrymore, ...          Frank Capra   \n",
       "731   [Kate Winslet, Jennifer Connelly, Patrick Wils...           Todd Field   \n",
       "970   [Michael Douglas, Benicio Del Toro, Catherine ...    Steven Soderbergh   \n",
       "355   [Kurt Russell, Goldie Hawn, Darby Camp, Julian...       Chris Columbus   \n",
       "628   [Logan Lerman, Emma Watson, Ezra Miller, Paul ...      Stephen Chbosky   \n",
       "776   [Priyanka Chopra Jonas, Sam Heughan, Céline Di...          Jim Strouse   \n",
       "530   [Jake Gyllenhaal, Robert Downey Jr., Mark Ruff...        David Fincher   \n",
       "\n",
       "        revenue  \n",
       "922   113086475  \n",
       "1748  473990832  \n",
       "954     7724701  \n",
       "37      9644124  \n",
       "731    14821658  \n",
       "970   207515725  \n",
       "355           0  \n",
       "628    33400000  \n",
       "776    10000000  \n",
       "530    84785914  "
      ]
     },
     "execution_count": 11,
     "metadata": {},
     "output_type": "execute_result"
    }
   ],
   "source": [
    "# Unir df original con el revenue_df\n",
    "df_merged = pd.merge(df, revenue_df, on='title', how='inner')\n",
    "df_merged.sample(10)"
   ]
  },
  {
   "cell_type": "code",
   "execution_count": 12,
   "metadata": {},
   "outputs": [
    {
     "data": {
      "text/plain": [
       "(1805, 8)"
      ]
     },
     "execution_count": 12,
     "metadata": {},
     "output_type": "execute_result"
    }
   ],
   "source": [
    "df_merged.shape"
   ]
  },
  {
   "cell_type": "markdown",
   "metadata": {},
   "source": [
    "Save the result in a .csv file."
   ]
  },
  {
   "cell_type": "code",
   "execution_count": 16,
   "metadata": {},
   "outputs": [],
   "source": [
    "df_merged.to_csv('./data/top_movies_cleaned.csv', index=False)"
   ]
  }
 ],
 "metadata": {
  "kernelspec": {
   "display_name": "base",
   "language": "python",
   "name": "python3"
  },
  "language_info": {
   "codemirror_mode": {
    "name": "ipython",
    "version": 3
   },
   "file_extension": ".py",
   "mimetype": "text/x-python",
   "name": "python",
   "nbconvert_exporter": "python",
   "pygments_lexer": "ipython3",
   "version": "3.12.4"
  }
 },
 "nbformat": 4,
 "nbformat_minor": 2
}
