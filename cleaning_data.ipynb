{
 "cells": [
  {
   "cell_type": "markdown",
   "metadata": {},
   "source": [
    "# Cleaning data"
   ]
  },
  {
   "cell_type": "markdown",
   "metadata": {},
   "source": [
    "Loading the basic data for the analysis into a DataFrame:"
   ]
  },
  {
   "cell_type": "code",
   "execution_count": 4,
   "metadata": {},
   "outputs": [],
   "source": [
    "import pandas as pd\n",
    "\n",
    "df = pd.read_csv('data/raw/top_movies.csv') # read csv file"
   ]
  },
  {
   "cell_type": "markdown",
   "metadata": {},
   "source": [
    "Standarize the column's names."
   ]
  },
  {
   "cell_type": "code",
   "execution_count": 5,
   "metadata": {},
   "outputs": [],
   "source": [
    "df.columns = df.columns.str.lower().str.replace(' ', '_')\n",
    "df = df.rename(columns={'moive_name': 'title'})"
   ]
  },
  {
   "cell_type": "markdown",
   "metadata": {},
   "source": [
    "Remove what is not useful for the analysis:"
   ]
  },
  {
   "cell_type": "code",
   "execution_count": 6,
   "metadata": {},
   "outputs": [],
   "source": [
    "df = df.dropna(subset=['cast', 'director'])"
   ]
  },
  {
   "cell_type": "code",
   "execution_count": 7,
   "metadata": {},
   "outputs": [],
   "source": [
    "df = df.drop(columns = ['unnamed:_0', 'votes', 'pg_rating', 'duration'])"
   ]
  },
  {
   "cell_type": "markdown",
   "metadata": {},
   "source": [
    "Convert 'genre' and 'cast' columns into lists for best understanding of the data:"
   ]
  },
  {
   "cell_type": "code",
   "execution_count": 8,
   "metadata": {},
   "outputs": [],
   "source": [
    "df['genre'] = df['genre'].apply(lambda x: x.split(', '))\n",
    "df['cast'] = df['cast'].apply(lambda x: x.split(', '))"
   ]
  },
  {
   "cell_type": "markdown",
   "metadata": {},
   "source": [
    "Last check to the DataFrame:"
   ]
  },
  {
   "cell_type": "code",
   "execution_count": 9,
   "metadata": {},
   "outputs": [
    {
     "data": {
      "text/plain": [
       "title          object\n",
       "rating        float64\n",
       "meta_score    float64\n",
       "genre          object\n",
       "year            int64\n",
       "cast           object\n",
       "director       object\n",
       "dtype: object"
      ]
     },
     "execution_count": 9,
     "metadata": {},
     "output_type": "execute_result"
    }
   ],
   "source": [
    "df.dtypes"
   ]
  },
  {
   "cell_type": "code",
   "execution_count": 10,
   "metadata": {},
   "outputs": [
    {
     "data": {
      "text/html": [
       "<div>\n",
       "<style scoped>\n",
       "    .dataframe tbody tr th:only-of-type {\n",
       "        vertical-align: middle;\n",
       "    }\n",
       "\n",
       "    .dataframe tbody tr th {\n",
       "        vertical-align: top;\n",
       "    }\n",
       "\n",
       "    .dataframe thead th {\n",
       "        text-align: right;\n",
       "    }\n",
       "</style>\n",
       "<table border=\"1\" class=\"dataframe\">\n",
       "  <thead>\n",
       "    <tr style=\"text-align: right;\">\n",
       "      <th></th>\n",
       "      <th>title</th>\n",
       "      <th>rating</th>\n",
       "      <th>meta_score</th>\n",
       "      <th>genre</th>\n",
       "      <th>year</th>\n",
       "      <th>cast</th>\n",
       "      <th>director</th>\n",
       "    </tr>\n",
       "  </thead>\n",
       "  <tbody>\n",
       "    <tr>\n",
       "      <th>793</th>\n",
       "      <td>Paddington</td>\n",
       "      <td>7.3</td>\n",
       "      <td>77.0</td>\n",
       "      <td>[Adventure, Comedy, Family]</td>\n",
       "      <td>2014</td>\n",
       "      <td>[Hugh Bonneville, Sally Hawkins, Julie Walters...</td>\n",
       "      <td>Paul King</td>\n",
       "    </tr>\n",
       "    <tr>\n",
       "      <th>1122</th>\n",
       "      <td>Fantastic Beasts and Where to Find Them</td>\n",
       "      <td>7.2</td>\n",
       "      <td>66.0</td>\n",
       "      <td>[Adventure, Family, Fantasy]</td>\n",
       "      <td>2016</td>\n",
       "      <td>[Eddie Redmayne, Katherine Waterston, Alison S...</td>\n",
       "      <td>David Yates</td>\n",
       "    </tr>\n",
       "    <tr>\n",
       "      <th>767</th>\n",
       "      <td>Romeo + Juliet</td>\n",
       "      <td>6.7</td>\n",
       "      <td>60.0</td>\n",
       "      <td>[Drama, Romance]</td>\n",
       "      <td>1996</td>\n",
       "      <td>[Leonardo DiCaprio, Claire Danes, John Leguiza...</td>\n",
       "      <td>Baz Luhrmann</td>\n",
       "    </tr>\n",
       "    <tr>\n",
       "      <th>813</th>\n",
       "      <td>Frequency</td>\n",
       "      <td>7.4</td>\n",
       "      <td>67.0</td>\n",
       "      <td>[Crime, Drama, Mystery]</td>\n",
       "      <td>2000</td>\n",
       "      <td>[Dennis Quaid, Jim Caviezel, Shawn Doyle, Eliz...</td>\n",
       "      <td>Gregory Hoblit</td>\n",
       "    </tr>\n",
       "    <tr>\n",
       "      <th>871</th>\n",
       "      <td>WALL·E</td>\n",
       "      <td>8.4</td>\n",
       "      <td>95.0</td>\n",
       "      <td>[Animation, Adventure, Family]</td>\n",
       "      <td>2008</td>\n",
       "      <td>[Ben Burtt, Elissa Knight, Jeff Garlin, Fred W...</td>\n",
       "      <td>Andrew Stanton</td>\n",
       "    </tr>\n",
       "    <tr>\n",
       "      <th>1853</th>\n",
       "      <td>Moonrise Kingdom</td>\n",
       "      <td>7.8</td>\n",
       "      <td>84.0</td>\n",
       "      <td>[Adventure, Comedy, Drama]</td>\n",
       "      <td>2012</td>\n",
       "      <td>[Jared Gilman, Kara Hayward, Bruce Willis, Bil...</td>\n",
       "      <td>Wes Anderson</td>\n",
       "    </tr>\n",
       "    <tr>\n",
       "      <th>347</th>\n",
       "      <td>Knives Out</td>\n",
       "      <td>7.9</td>\n",
       "      <td>82.0</td>\n",
       "      <td>[Comedy, Crime, Drama]</td>\n",
       "      <td>2019</td>\n",
       "      <td>[Daniel Craig, Chris Evans, Ana de Armas, Jami...</td>\n",
       "      <td>Rian Johnson</td>\n",
       "    </tr>\n",
       "    <tr>\n",
       "      <th>1706</th>\n",
       "      <td>Forgetting Sarah Marshall</td>\n",
       "      <td>7.1</td>\n",
       "      <td>67.0</td>\n",
       "      <td>[Comedy, Drama, Romance]</td>\n",
       "      <td>2008</td>\n",
       "      <td>[Kristen Bell, Jason Segel, Paul Rudd, Mila Ku...</td>\n",
       "      <td>Nicholas Stoller</td>\n",
       "    </tr>\n",
       "    <tr>\n",
       "      <th>1304</th>\n",
       "      <td>Legends of the Fall</td>\n",
       "      <td>7.5</td>\n",
       "      <td>45.0</td>\n",
       "      <td>[Drama, Romance, War]</td>\n",
       "      <td>1994</td>\n",
       "      <td>[Brad Pitt, Anthony Hopkins, Aidan Quinn, Juli...</td>\n",
       "      <td>Edward Zwick</td>\n",
       "    </tr>\n",
       "    <tr>\n",
       "      <th>1820</th>\n",
       "      <td>Pokémon: Detective Pikachu</td>\n",
       "      <td>6.5</td>\n",
       "      <td>53.0</td>\n",
       "      <td>[Action, Adventure, Comedy]</td>\n",
       "      <td>2019</td>\n",
       "      <td>[Ryan Reynolds, Justice Smith, Kathryn Newton,...</td>\n",
       "      <td>Rob Letterman</td>\n",
       "    </tr>\n",
       "  </tbody>\n",
       "</table>\n",
       "</div>"
      ],
      "text/plain": [
       "                                         title  rating  meta_score  \\\n",
       "793                                 Paddington     7.3        77.0   \n",
       "1122   Fantastic Beasts and Where to Find Them     7.2        66.0   \n",
       "767                             Romeo + Juliet     6.7        60.0   \n",
       "813                                  Frequency     7.4        67.0   \n",
       "871                                     WALL·E     8.4        95.0   \n",
       "1853                          Moonrise Kingdom     7.8        84.0   \n",
       "347                                 Knives Out     7.9        82.0   \n",
       "1706                 Forgetting Sarah Marshall     7.1        67.0   \n",
       "1304                       Legends of the Fall     7.5        45.0   \n",
       "1820                Pokémon: Detective Pikachu     6.5        53.0   \n",
       "\n",
       "                               genre  year  \\\n",
       "793      [Adventure, Comedy, Family]  2014   \n",
       "1122    [Adventure, Family, Fantasy]  2016   \n",
       "767                 [Drama, Romance]  1996   \n",
       "813          [Crime, Drama, Mystery]  2000   \n",
       "871   [Animation, Adventure, Family]  2008   \n",
       "1853      [Adventure, Comedy, Drama]  2012   \n",
       "347           [Comedy, Crime, Drama]  2019   \n",
       "1706        [Comedy, Drama, Romance]  2008   \n",
       "1304           [Drama, Romance, War]  1994   \n",
       "1820     [Action, Adventure, Comedy]  2019   \n",
       "\n",
       "                                                   cast          director  \n",
       "793   [Hugh Bonneville, Sally Hawkins, Julie Walters...         Paul King  \n",
       "1122  [Eddie Redmayne, Katherine Waterston, Alison S...       David Yates  \n",
       "767   [Leonardo DiCaprio, Claire Danes, John Leguiza...      Baz Luhrmann  \n",
       "813   [Dennis Quaid, Jim Caviezel, Shawn Doyle, Eliz...    Gregory Hoblit  \n",
       "871   [Ben Burtt, Elissa Knight, Jeff Garlin, Fred W...    Andrew Stanton  \n",
       "1853  [Jared Gilman, Kara Hayward, Bruce Willis, Bil...      Wes Anderson  \n",
       "347   [Daniel Craig, Chris Evans, Ana de Armas, Jami...      Rian Johnson  \n",
       "1706  [Kristen Bell, Jason Segel, Paul Rudd, Mila Ku...  Nicholas Stoller  \n",
       "1304  [Brad Pitt, Anthony Hopkins, Aidan Quinn, Juli...      Edward Zwick  \n",
       "1820  [Ryan Reynolds, Justice Smith, Kathryn Newton,...     Rob Letterman  "
      ]
     },
     "execution_count": 10,
     "metadata": {},
     "output_type": "execute_result"
    }
   ],
   "source": [
    "df.sample(10)"
   ]
  },
  {
   "cell_type": "markdown",
   "metadata": {},
   "source": [
    "## Revenue DataFrame"
   ]
  },
  {
   "cell_type": "markdown",
   "metadata": {},
   "source": [
    "Load the dataframe with the movie titles and the profit they have obtained:"
   ]
  },
  {
   "cell_type": "code",
   "execution_count": 12,
   "metadata": {},
   "outputs": [],
   "source": [
    "revenue_df = pd.read_csv('data/raw/revenue_movies_dataset.csv') # read csv file"
   ]
  },
  {
   "cell_type": "markdown",
   "metadata": {},
   "source": [
    "Standarize the names of the movies to be able to merge the dataframes on the 'title' column."
   ]
  },
  {
   "cell_type": "code",
   "execution_count": 13,
   "metadata": {},
   "outputs": [],
   "source": [
    "def clean_title(title):\n",
    "    # Convertir a minúsculas\n",
    "    title = title.lower()\n",
    "    # Eliminar espacios en blanco al principio y al final\n",
    "    title = title.strip()\n",
    "    # Reemplazar caracteres especiales (opcional, depende de tus datos)\n",
    "    title = title.replace(\"'\", \"\")  # Eliminar apóstrofes\n",
    "    title = title.replace(\":\", \"\")  # Eliminar dos puntos\n",
    "    return title\n",
    "\n",
    "# Aplicar la función de limpieza en ambas columnas 'title'\n",
    "df['title'] = df['title'].apply(clean_title)\n",
    "revenue_df['title'] = revenue_df['title'].apply(clean_title)"
   ]
  },
  {
   "cell_type": "markdown",
   "metadata": {},
   "source": [
    "Clean the revenue DataFrame:"
   ]
  },
  {
   "cell_type": "code",
   "execution_count": 14,
   "metadata": {},
   "outputs": [],
   "source": [
    "revenue_df.drop_duplicates(subset='title', inplace=True)"
   ]
  },
  {
   "cell_type": "markdown",
   "metadata": {},
   "source": [
    "Merge both to obtain a complete DataFrame with all the necessary information about the movies, including their revenue."
   ]
  },
  {
   "cell_type": "code",
   "execution_count": 15,
   "metadata": {},
   "outputs": [
    {
     "data": {
      "text/html": [
       "<div>\n",
       "<style scoped>\n",
       "    .dataframe tbody tr th:only-of-type {\n",
       "        vertical-align: middle;\n",
       "    }\n",
       "\n",
       "    .dataframe tbody tr th {\n",
       "        vertical-align: top;\n",
       "    }\n",
       "\n",
       "    .dataframe thead th {\n",
       "        text-align: right;\n",
       "    }\n",
       "</style>\n",
       "<table border=\"1\" class=\"dataframe\">\n",
       "  <thead>\n",
       "    <tr style=\"text-align: right;\">\n",
       "      <th></th>\n",
       "      <th>title</th>\n",
       "      <th>rating</th>\n",
       "      <th>meta_score</th>\n",
       "      <th>genre</th>\n",
       "      <th>year</th>\n",
       "      <th>cast</th>\n",
       "      <th>director</th>\n",
       "      <th>revenue</th>\n",
       "    </tr>\n",
       "  </thead>\n",
       "  <tbody>\n",
       "    <tr>\n",
       "      <th>1730</th>\n",
       "      <td>young guns</td>\n",
       "      <td>6.8</td>\n",
       "      <td>50.0</td>\n",
       "      <td>[Action, Drama, Western]</td>\n",
       "      <td>1988</td>\n",
       "      <td>[Emilio Estevez, Kiefer Sutherland, Lou Diamon...</td>\n",
       "      <td>Christopher Cain</td>\n",
       "      <td>44726644</td>\n",
       "    </tr>\n",
       "    <tr>\n",
       "      <th>365</th>\n",
       "      <td>avatar</td>\n",
       "      <td>7.9</td>\n",
       "      <td>83.0</td>\n",
       "      <td>[Action, Adventure, Fantasy]</td>\n",
       "      <td>2009</td>\n",
       "      <td>[Sam Worthington, Zoe Saldana, Sigourney Weave...</td>\n",
       "      <td>James Cameron</td>\n",
       "      <td>2923706026</td>\n",
       "    </tr>\n",
       "    <tr>\n",
       "      <th>344</th>\n",
       "      <td>ghosted</td>\n",
       "      <td>5.8</td>\n",
       "      <td>34.0</td>\n",
       "      <td>[Action, Adventure, Comedy]</td>\n",
       "      <td>2023</td>\n",
       "      <td>[Chris Evans, Ana de Armas, Adrien Brody, Mike...</td>\n",
       "      <td>Dexter Fletcher</td>\n",
       "      <td>0</td>\n",
       "    </tr>\n",
       "    <tr>\n",
       "      <th>1129</th>\n",
       "      <td>kill bill vol. 2</td>\n",
       "      <td>8.0</td>\n",
       "      <td>83.0</td>\n",
       "      <td>[Action, Crime, Thriller]</td>\n",
       "      <td>2004</td>\n",
       "      <td>[Uma Thurman, David Carradine, Michael Madsen,...</td>\n",
       "      <td>Quentin Tarantino</td>\n",
       "      <td>152159461</td>\n",
       "    </tr>\n",
       "    <tr>\n",
       "      <th>1152</th>\n",
       "      <td>the village</td>\n",
       "      <td>6.6</td>\n",
       "      <td>44.0</td>\n",
       "      <td>[Drama, Mystery, Thriller]</td>\n",
       "      <td>2004</td>\n",
       "      <td>[Sigourney Weaver, William Hurt, Joaquin Phoen...</td>\n",
       "      <td>M. Night Shyamalan</td>\n",
       "      <td>256697520</td>\n",
       "    </tr>\n",
       "    <tr>\n",
       "      <th>1481</th>\n",
       "      <td>liar liar</td>\n",
       "      <td>6.9</td>\n",
       "      <td>70.0</td>\n",
       "      <td>[Comedy, Fantasy]</td>\n",
       "      <td>1997</td>\n",
       "      <td>[Jim Carrey, Maura Tierney, Amanda Donohoe, Je...</td>\n",
       "      <td>Tom Shadyac</td>\n",
       "      <td>302710615</td>\n",
       "    </tr>\n",
       "    <tr>\n",
       "      <th>885</th>\n",
       "      <td>the kill room</td>\n",
       "      <td>5.4</td>\n",
       "      <td>58.0</td>\n",
       "      <td>[Comedy, Thriller]</td>\n",
       "      <td>2023</td>\n",
       "      <td>[Alexis Linkletter, Joe Manganiello, Danny Pla...</td>\n",
       "      <td>Nicol Paone</td>\n",
       "      <td>476375</td>\n",
       "    </tr>\n",
       "    <tr>\n",
       "      <th>1235</th>\n",
       "      <td>fifty shades freed</td>\n",
       "      <td>4.5</td>\n",
       "      <td>31.0</td>\n",
       "      <td>[Drama, Romance, Thriller]</td>\n",
       "      <td>2018</td>\n",
       "      <td>[Dakota Johnson, Jamie Dornan, Eric Johnson, E...</td>\n",
       "      <td>James Foley</td>\n",
       "      <td>368307760</td>\n",
       "    </tr>\n",
       "    <tr>\n",
       "      <th>160</th>\n",
       "      <td>shes all that</td>\n",
       "      <td>5.9</td>\n",
       "      <td>51.0</td>\n",
       "      <td>[Comedy, Romance]</td>\n",
       "      <td>1999</td>\n",
       "      <td>[Freddie Prinze Jr., Rachael Leigh Cook, Matth...</td>\n",
       "      <td>Robert Iscove</td>\n",
       "      <td>103166989</td>\n",
       "    </tr>\n",
       "    <tr>\n",
       "      <th>243</th>\n",
       "      <td>holidate</td>\n",
       "      <td>6.1</td>\n",
       "      <td>44.0</td>\n",
       "      <td>[Comedy, Romance]</td>\n",
       "      <td>2020</td>\n",
       "      <td>[Emma Roberts, Luke Bracey, Kristin Chenoweth,...</td>\n",
       "      <td>John Whitesell</td>\n",
       "      <td>0</td>\n",
       "    </tr>\n",
       "  </tbody>\n",
       "</table>\n",
       "</div>"
      ],
      "text/plain": [
       "                   title  rating  meta_score                         genre  \\\n",
       "1730          young guns     6.8        50.0      [Action, Drama, Western]   \n",
       "365               avatar     7.9        83.0  [Action, Adventure, Fantasy]   \n",
       "344              ghosted     5.8        34.0   [Action, Adventure, Comedy]   \n",
       "1129    kill bill vol. 2     8.0        83.0     [Action, Crime, Thriller]   \n",
       "1152         the village     6.6        44.0    [Drama, Mystery, Thriller]   \n",
       "1481           liar liar     6.9        70.0             [Comedy, Fantasy]   \n",
       "885        the kill room     5.4        58.0            [Comedy, Thriller]   \n",
       "1235  fifty shades freed     4.5        31.0    [Drama, Romance, Thriller]   \n",
       "160        shes all that     5.9        51.0             [Comedy, Romance]   \n",
       "243             holidate     6.1        44.0             [Comedy, Romance]   \n",
       "\n",
       "      year                                               cast  \\\n",
       "1730  1988  [Emilio Estevez, Kiefer Sutherland, Lou Diamon...   \n",
       "365   2009  [Sam Worthington, Zoe Saldana, Sigourney Weave...   \n",
       "344   2023  [Chris Evans, Ana de Armas, Adrien Brody, Mike...   \n",
       "1129  2004  [Uma Thurman, David Carradine, Michael Madsen,...   \n",
       "1152  2004  [Sigourney Weaver, William Hurt, Joaquin Phoen...   \n",
       "1481  1997  [Jim Carrey, Maura Tierney, Amanda Donohoe, Je...   \n",
       "885   2023  [Alexis Linkletter, Joe Manganiello, Danny Pla...   \n",
       "1235  2018  [Dakota Johnson, Jamie Dornan, Eric Johnson, E...   \n",
       "160   1999  [Freddie Prinze Jr., Rachael Leigh Cook, Matth...   \n",
       "243   2020  [Emma Roberts, Luke Bracey, Kristin Chenoweth,...   \n",
       "\n",
       "                director     revenue  \n",
       "1730    Christopher Cain    44726644  \n",
       "365        James Cameron  2923706026  \n",
       "344      Dexter Fletcher           0  \n",
       "1129   Quentin Tarantino   152159461  \n",
       "1152  M. Night Shyamalan   256697520  \n",
       "1481         Tom Shadyac   302710615  \n",
       "885          Nicol Paone      476375  \n",
       "1235         James Foley   368307760  \n",
       "160        Robert Iscove   103166989  \n",
       "243       John Whitesell           0  "
      ]
     },
     "execution_count": 15,
     "metadata": {},
     "output_type": "execute_result"
    }
   ],
   "source": [
    "# Unir df original con el revenue_df\n",
    "df_merged = pd.merge(df, revenue_df, on='title', how='inner')\n",
    "df_merged.sample(10)"
   ]
  },
  {
   "cell_type": "code",
   "execution_count": 16,
   "metadata": {},
   "outputs": [
    {
     "data": {
      "text/plain": [
       "(1805, 8)"
      ]
     },
     "execution_count": 16,
     "metadata": {},
     "output_type": "execute_result"
    }
   ],
   "source": [
    "df_merged.shape"
   ]
  },
  {
   "cell_type": "markdown",
   "metadata": {},
   "source": [
    "Save the result in a .csv file."
   ]
  },
  {
   "cell_type": "code",
   "execution_count": 15,
   "metadata": {},
   "outputs": [],
   "source": [
    "df_merged.to_csv('top_movies_cleaned.csv', index=False)"
   ]
  }
 ],
 "metadata": {
  "kernelspec": {
   "display_name": "base",
   "language": "python",
   "name": "python3"
  },
  "language_info": {
   "codemirror_mode": {
    "name": "ipython",
    "version": 3
   },
   "file_extension": ".py",
   "mimetype": "text/x-python",
   "name": "python",
   "nbconvert_exporter": "python",
   "pygments_lexer": "ipython3",
   "version": "3.12.4"
  }
 },
 "nbformat": 4,
 "nbformat_minor": 2
}
