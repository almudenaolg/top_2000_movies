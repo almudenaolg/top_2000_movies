{
 "cells": [
  {
   "cell_type": "markdown",
   "metadata": {},
   "source": [
    "# Cleaning data"
   ]
  },
  {
   "cell_type": "markdown",
   "metadata": {},
   "source": [
    "Loading the basic data for the analysis into a DataFrame:"
   ]
  },
  {
   "cell_type": "code",
   "execution_count": 1,
   "metadata": {},
   "outputs": [],
   "source": [
    "import pandas as pd\n",
    "\n",
    "df = pd.read_csv('top_movies.csv') # read csv file"
   ]
  },
  {
   "cell_type": "markdown",
   "metadata": {},
   "source": [
    "Standarize the column's names."
   ]
  },
  {
   "cell_type": "code",
   "execution_count": 3,
   "metadata": {},
   "outputs": [],
   "source": [
    "df.columns = df.columns.str.lower().str.replace(' ', '_')\n",
    "df = df.rename(columns={'moive_name': 'title'})"
   ]
  },
  {
   "cell_type": "markdown",
   "metadata": {},
   "source": [
    "Remove what is not useful for the analysis:"
   ]
  },
  {
   "cell_type": "code",
   "execution_count": 4,
   "metadata": {},
   "outputs": [],
   "source": [
    "df = df.dropna(subset=['cast', 'director'])"
   ]
  },
  {
   "cell_type": "code",
   "execution_count": 6,
   "metadata": {},
   "outputs": [],
   "source": [
    "df = df.drop(columns = ['unnamed:_0', 'votes', 'pg_rating', 'duration'])"
   ]
  },
  {
   "cell_type": "markdown",
   "metadata": {},
   "source": [
    "Convert 'genre' and 'cast' columns into lists for best understanding of the data:"
   ]
  },
  {
   "cell_type": "code",
   "execution_count": 8,
   "metadata": {},
   "outputs": [],
   "source": [
    "df['genre'] = df['genre'].apply(lambda x: x.split(', '))\n",
    "df['cast'] = df['cast'].apply(lambda x: x.split(', '))"
   ]
  },
  {
   "cell_type": "markdown",
   "metadata": {},
   "source": [
    "Last check to the DataFrame:"
   ]
  },
  {
   "cell_type": "code",
   "execution_count": 9,
   "metadata": {},
   "outputs": [
    {
     "data": {
      "text/plain": [
       "title          object\n",
       "rating        float64\n",
       "meta_score    float64\n",
       "genre          object\n",
       "year            int64\n",
       "cast           object\n",
       "director       object\n",
       "dtype: object"
      ]
     },
     "execution_count": 9,
     "metadata": {},
     "output_type": "execute_result"
    }
   ],
   "source": [
    "df.dtypes"
   ]
  },
  {
   "cell_type": "code",
   "execution_count": null,
   "metadata": {},
   "outputs": [],
   "source": [
    "df.sample(10)"
   ]
  },
  {
   "cell_type": "markdown",
   "metadata": {},
   "source": [
    "## Revenue DataFrame"
   ]
  },
  {
   "cell_type": "markdown",
   "metadata": {},
   "source": [
    "Load the dataframe with the movie titles and the profit they have obtained:"
   ]
  },
  {
   "cell_type": "code",
   "execution_count": 10,
   "metadata": {},
   "outputs": [],
   "source": [
    "revenue_df = pd.read_csv('revenue_movies_dataset.csv') # read csv file"
   ]
  },
  {
   "cell_type": "markdown",
   "metadata": {},
   "source": [
    "Standarize the names of the movies to be able to merge the dataframes on the 'title' column."
   ]
  },
  {
   "cell_type": "code",
   "execution_count": 11,
   "metadata": {},
   "outputs": [],
   "source": [
    "def clean_title(title):\n",
    "    # Convertir a minúsculas\n",
    "    title = title.lower()\n",
    "    # Eliminar espacios en blanco al principio y al final\n",
    "    title = title.strip()\n",
    "    # Reemplazar caracteres especiales (opcional, depende de tus datos)\n",
    "    title = title.replace(\"'\", \"\")  # Eliminar apóstrofes\n",
    "    title = title.replace(\":\", \"\")  # Eliminar dos puntos\n",
    "    return title\n",
    "\n",
    "# Aplicar la función de limpieza en ambas columnas 'title'\n",
    "df['title'] = df['title'].apply(clean_title)\n",
    "revenue_df['title'] = revenue_df['title'].apply(clean_title)"
   ]
  },
  {
   "cell_type": "markdown",
   "metadata": {},
   "source": [
    "Clean the revenue DataFrame:"
   ]
  },
  {
   "cell_type": "code",
   "execution_count": 12,
   "metadata": {},
   "outputs": [],
   "source": [
    "revenue_df.drop_duplicates(subset='title', inplace=True)"
   ]
  },
  {
   "cell_type": "markdown",
   "metadata": {},
   "source": [
    "Merge both to obtain a complete DataFrame with all the necessary information about the movies, including their revenue."
   ]
  },
  {
   "cell_type": "code",
   "execution_count": 13,
   "metadata": {},
   "outputs": [
    {
     "data": {
      "text/html": [
       "<div>\n",
       "<style scoped>\n",
       "    .dataframe tbody tr th:only-of-type {\n",
       "        vertical-align: middle;\n",
       "    }\n",
       "\n",
       "    .dataframe tbody tr th {\n",
       "        vertical-align: top;\n",
       "    }\n",
       "\n",
       "    .dataframe thead th {\n",
       "        text-align: right;\n",
       "    }\n",
       "</style>\n",
       "<table border=\"1\" class=\"dataframe\">\n",
       "  <thead>\n",
       "    <tr style=\"text-align: right;\">\n",
       "      <th></th>\n",
       "      <th>title</th>\n",
       "      <th>rating</th>\n",
       "      <th>meta_score</th>\n",
       "      <th>genre</th>\n",
       "      <th>year</th>\n",
       "      <th>cast</th>\n",
       "      <th>director</th>\n",
       "      <th>revenue</th>\n",
       "    </tr>\n",
       "  </thead>\n",
       "  <tbody>\n",
       "    <tr>\n",
       "      <th>541</th>\n",
       "      <td>edward scissorhands</td>\n",
       "      <td>7.9</td>\n",
       "      <td>74.0</td>\n",
       "      <td>[Drama, Fantasy, Romance]</td>\n",
       "      <td>1990</td>\n",
       "      <td>[Johnny Depp, Winona Ryder, Dianne Wiest, Anth...</td>\n",
       "      <td>Tim Burton</td>\n",
       "      <td>53000000</td>\n",
       "    </tr>\n",
       "    <tr>\n",
       "      <th>1392</th>\n",
       "      <td>shooter</td>\n",
       "      <td>7.1</td>\n",
       "      <td>53.0</td>\n",
       "      <td>[Action, Drama, Thriller]</td>\n",
       "      <td>2007</td>\n",
       "      <td>[Mark Wahlberg, Michael Peña, Rhona Mitra, Dan...</td>\n",
       "      <td>Antoine Fuqua</td>\n",
       "      <td>95696996</td>\n",
       "    </tr>\n",
       "    <tr>\n",
       "      <th>64</th>\n",
       "      <td>jingle all the way</td>\n",
       "      <td>5.7</td>\n",
       "      <td>34.0</td>\n",
       "      <td>[Adventure, Comedy, Family]</td>\n",
       "      <td>1996</td>\n",
       "      <td>[Arnold Schwarzenegger, Sinbad, Phil Hartman, ...</td>\n",
       "      <td>Brian Levant</td>\n",
       "      <td>129832389</td>\n",
       "    </tr>\n",
       "    <tr>\n",
       "      <th>1524</th>\n",
       "      <td>the purge</td>\n",
       "      <td>5.7</td>\n",
       "      <td>41.0</td>\n",
       "      <td>[Horror, Sci-Fi, Thriller]</td>\n",
       "      <td>2013</td>\n",
       "      <td>[Ethan Hawke, Lena Headey, Max Burkholder, Ade...</td>\n",
       "      <td>James DeMonaco</td>\n",
       "      <td>89328627</td>\n",
       "    </tr>\n",
       "    <tr>\n",
       "      <th>80</th>\n",
       "      <td>gremlins</td>\n",
       "      <td>7.3</td>\n",
       "      <td>70.0</td>\n",
       "      <td>[Comedy, Fantasy, Horror]</td>\n",
       "      <td>1984</td>\n",
       "      <td>[Zach Galligan, Phoebe Cates, Hoyt Axton, John...</td>\n",
       "      <td>Joe Dante</td>\n",
       "      <td>153083102</td>\n",
       "    </tr>\n",
       "    <tr>\n",
       "      <th>139</th>\n",
       "      <td>shazam! fury of the gods</td>\n",
       "      <td>6.0</td>\n",
       "      <td>47.0</td>\n",
       "      <td>[Action, Adventure, Comedy]</td>\n",
       "      <td>2023</td>\n",
       "      <td>[Zachary Levi, Asher Angel, Jack Dylan Grazer,...</td>\n",
       "      <td>David F. Sandberg</td>\n",
       "      <td>133437105</td>\n",
       "    </tr>\n",
       "    <tr>\n",
       "      <th>128</th>\n",
       "      <td>avatar the way of water</td>\n",
       "      <td>7.6</td>\n",
       "      <td>67.0</td>\n",
       "      <td>[Action, Adventure, Fantasy]</td>\n",
       "      <td>2022</td>\n",
       "      <td>[Sam Worthington, Zoe Saldana, Sigourney Weave...</td>\n",
       "      <td>James Cameron</td>\n",
       "      <td>2320250281</td>\n",
       "    </tr>\n",
       "    <tr>\n",
       "      <th>1592</th>\n",
       "      <td>fast &amp; furious presents hobbs &amp; shaw</td>\n",
       "      <td>6.5</td>\n",
       "      <td>60.0</td>\n",
       "      <td>[Action, Adventure, Thriller]</td>\n",
       "      <td>2019</td>\n",
       "      <td>[Dwayne Johnson, Jason Statham, Idris Elba, Va...</td>\n",
       "      <td>David Leitch</td>\n",
       "      <td>760098996</td>\n",
       "    </tr>\n",
       "    <tr>\n",
       "      <th>1707</th>\n",
       "      <td>star trek beyond</td>\n",
       "      <td>7.0</td>\n",
       "      <td>68.0</td>\n",
       "      <td>[Action, Adventure, Sci-Fi]</td>\n",
       "      <td>2016</td>\n",
       "      <td>[Chris Pine, Zachary Quinto, Karl Urban, Zoe S...</td>\n",
       "      <td>Justin Lin</td>\n",
       "      <td>343471816</td>\n",
       "    </tr>\n",
       "    <tr>\n",
       "      <th>1352</th>\n",
       "      <td>the name of the rose</td>\n",
       "      <td>7.7</td>\n",
       "      <td>54.0</td>\n",
       "      <td>[Drama, Mystery, Thriller]</td>\n",
       "      <td>1986</td>\n",
       "      <td>[Sean Connery, Christian Slater, Helmut Qualti...</td>\n",
       "      <td>Jean-Jacques Annaud</td>\n",
       "      <td>77200000</td>\n",
       "    </tr>\n",
       "  </tbody>\n",
       "</table>\n",
       "</div>"
      ],
      "text/plain": [
       "                                     title  rating  meta_score  \\\n",
       "541                    edward scissorhands     7.9        74.0   \n",
       "1392                               shooter     7.1        53.0   \n",
       "64                      jingle all the way     5.7        34.0   \n",
       "1524                             the purge     5.7        41.0   \n",
       "80                                gremlins     7.3        70.0   \n",
       "139               shazam! fury of the gods     6.0        47.0   \n",
       "128                avatar the way of water     7.6        67.0   \n",
       "1592  fast & furious presents hobbs & shaw     6.5        60.0   \n",
       "1707                      star trek beyond     7.0        68.0   \n",
       "1352                  the name of the rose     7.7        54.0   \n",
       "\n",
       "                              genre  year  \\\n",
       "541       [Drama, Fantasy, Romance]  1990   \n",
       "1392      [Action, Drama, Thriller]  2007   \n",
       "64      [Adventure, Comedy, Family]  1996   \n",
       "1524     [Horror, Sci-Fi, Thriller]  2013   \n",
       "80        [Comedy, Fantasy, Horror]  1984   \n",
       "139     [Action, Adventure, Comedy]  2023   \n",
       "128    [Action, Adventure, Fantasy]  2022   \n",
       "1592  [Action, Adventure, Thriller]  2019   \n",
       "1707    [Action, Adventure, Sci-Fi]  2016   \n",
       "1352     [Drama, Mystery, Thriller]  1986   \n",
       "\n",
       "                                                   cast             director  \\\n",
       "541   [Johnny Depp, Winona Ryder, Dianne Wiest, Anth...           Tim Burton   \n",
       "1392  [Mark Wahlberg, Michael Peña, Rhona Mitra, Dan...        Antoine Fuqua   \n",
       "64    [Arnold Schwarzenegger, Sinbad, Phil Hartman, ...         Brian Levant   \n",
       "1524  [Ethan Hawke, Lena Headey, Max Burkholder, Ade...       James DeMonaco   \n",
       "80    [Zach Galligan, Phoebe Cates, Hoyt Axton, John...            Joe Dante   \n",
       "139   [Zachary Levi, Asher Angel, Jack Dylan Grazer,...    David F. Sandberg   \n",
       "128   [Sam Worthington, Zoe Saldana, Sigourney Weave...        James Cameron   \n",
       "1592  [Dwayne Johnson, Jason Statham, Idris Elba, Va...         David Leitch   \n",
       "1707  [Chris Pine, Zachary Quinto, Karl Urban, Zoe S...           Justin Lin   \n",
       "1352  [Sean Connery, Christian Slater, Helmut Qualti...  Jean-Jacques Annaud   \n",
       "\n",
       "         revenue  \n",
       "541     53000000  \n",
       "1392    95696996  \n",
       "64     129832389  \n",
       "1524    89328627  \n",
       "80     153083102  \n",
       "139    133437105  \n",
       "128   2320250281  \n",
       "1592   760098996  \n",
       "1707   343471816  \n",
       "1352    77200000  "
      ]
     },
     "execution_count": 13,
     "metadata": {},
     "output_type": "execute_result"
    }
   ],
   "source": [
    "# Unir df original con el revenue_df\n",
    "df_merged = pd.merge(df, revenue_df, on='title', how='inner')\n",
    "df_merged.sample(10)"
   ]
  },
  {
   "cell_type": "code",
   "execution_count": 14,
   "metadata": {},
   "outputs": [
    {
     "data": {
      "text/plain": [
       "(1805, 8)"
      ]
     },
     "execution_count": 14,
     "metadata": {},
     "output_type": "execute_result"
    }
   ],
   "source": [
    "df_merged.shape"
   ]
  },
  {
   "cell_type": "markdown",
   "metadata": {},
   "source": [
    "Save the result in a .csv file."
   ]
  },
  {
   "cell_type": "code",
   "execution_count": 15,
   "metadata": {},
   "outputs": [],
   "source": [
    "df_merged.to_csv('top_movies_cleaned.csv', index=False)"
   ]
  }
 ],
 "metadata": {
  "kernelspec": {
   "display_name": "base",
   "language": "python",
   "name": "python3"
  },
  "language_info": {
   "codemirror_mode": {
    "name": "ipython",
    "version": 3
   },
   "file_extension": ".py",
   "mimetype": "text/x-python",
   "name": "python",
   "nbconvert_exporter": "python",
   "pygments_lexer": "ipython3",
   "version": "3.12.4"
  }
 },
 "nbformat": 4,
 "nbformat_minor": 2
}
