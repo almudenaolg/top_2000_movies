{
 "cells": [
  {
   "cell_type": "markdown",
   "metadata": {},
   "source": [
    "# Cleaning data"
   ]
  },
  {
   "cell_type": "markdown",
   "metadata": {},
   "source": [
    "Loading the basic data for the analysis into a DataFrame:"
   ]
  },
  {
   "cell_type": "code",
   "execution_count": 2,
   "metadata": {},
   "outputs": [],
   "source": [
    "import pandas as pd\n",
    "\n",
    "df = pd.read_csv('../data/raw/top_movies.csv') # read csv file"
   ]
  },
  {
   "cell_type": "markdown",
   "metadata": {},
   "source": [
    "Standarize the column's names."
   ]
  },
  {
   "cell_type": "code",
   "execution_count": 3,
   "metadata": {},
   "outputs": [],
   "source": [
    "df.columns = df.columns.str.lower().str.replace(' ', '_')\n",
    "df = df.rename(columns={'moive_name': 'title'})"
   ]
  },
  {
   "cell_type": "markdown",
   "metadata": {},
   "source": [
    "Remove what is not useful for the analysis:"
   ]
  },
  {
   "cell_type": "code",
   "execution_count": 4,
   "metadata": {},
   "outputs": [],
   "source": [
    "df = df.dropna(subset=['cast', 'director'])"
   ]
  },
  {
   "cell_type": "code",
   "execution_count": 5,
   "metadata": {},
   "outputs": [],
   "source": [
    "df = df.drop(columns = ['unnamed:_0', 'votes', 'pg_rating', 'duration'])"
   ]
  },
  {
   "cell_type": "markdown",
   "metadata": {},
   "source": [
    "Convert 'genre' and 'cast' columns into lists for best understanding of the data:"
   ]
  },
  {
   "cell_type": "code",
   "execution_count": 6,
   "metadata": {},
   "outputs": [],
   "source": [
    "df['genre'] = df['genre'].apply(lambda x: x.split(', '))\n",
    "df['cast'] = df['cast'].apply(lambda x: x.split(', '))"
   ]
  },
  {
   "cell_type": "markdown",
   "metadata": {},
   "source": [
    "Last check to the DataFrame:"
   ]
  },
  {
   "cell_type": "code",
   "execution_count": 7,
   "metadata": {},
   "outputs": [
    {
     "data": {
      "text/plain": [
       "title          object\n",
       "rating        float64\n",
       "meta_score    float64\n",
       "genre          object\n",
       "year            int64\n",
       "cast           object\n",
       "director       object\n",
       "dtype: object"
      ]
     },
     "execution_count": 7,
     "metadata": {},
     "output_type": "execute_result"
    }
   ],
   "source": [
    "df.dtypes"
   ]
  },
  {
   "cell_type": "code",
   "execution_count": 8,
   "metadata": {},
   "outputs": [
    {
     "data": {
      "text/html": [
       "<div>\n",
       "<style scoped>\n",
       "    .dataframe tbody tr th:only-of-type {\n",
       "        vertical-align: middle;\n",
       "    }\n",
       "\n",
       "    .dataframe tbody tr th {\n",
       "        vertical-align: top;\n",
       "    }\n",
       "\n",
       "    .dataframe thead th {\n",
       "        text-align: right;\n",
       "    }\n",
       "</style>\n",
       "<table border=\"1\" class=\"dataframe\">\n",
       "  <thead>\n",
       "    <tr style=\"text-align: right;\">\n",
       "      <th></th>\n",
       "      <th>title</th>\n",
       "      <th>rating</th>\n",
       "      <th>meta_score</th>\n",
       "      <th>genre</th>\n",
       "      <th>year</th>\n",
       "      <th>cast</th>\n",
       "      <th>director</th>\n",
       "    </tr>\n",
       "  </thead>\n",
       "  <tbody>\n",
       "    <tr>\n",
       "      <th>910</th>\n",
       "      <td>Children of Men</td>\n",
       "      <td>7.9</td>\n",
       "      <td>84.0</td>\n",
       "      <td>[Action, Drama, Sci-Fi]</td>\n",
       "      <td>2006</td>\n",
       "      <td>[Julianne Moore, Clive Owen, Chiwetel Ejiofor,...</td>\n",
       "      <td>Alfonso Cuarón</td>\n",
       "    </tr>\n",
       "    <tr>\n",
       "      <th>497</th>\n",
       "      <td>Blockers</td>\n",
       "      <td>6.2</td>\n",
       "      <td>69.0</td>\n",
       "      <td>[Comedy, Drama]</td>\n",
       "      <td>2018</td>\n",
       "      <td>[Leslie Mann, John Cena, Ike Barinholtz, Kathr...</td>\n",
       "      <td>Kay Cannon</td>\n",
       "    </tr>\n",
       "    <tr>\n",
       "      <th>155</th>\n",
       "      <td>Titanic</td>\n",
       "      <td>7.9</td>\n",
       "      <td>75.0</td>\n",
       "      <td>[Drama, Romance]</td>\n",
       "      <td>1997</td>\n",
       "      <td>[Leonardo DiCaprio, Kate Winslet, Billy Zane, ...</td>\n",
       "      <td>James Cameron</td>\n",
       "    </tr>\n",
       "    <tr>\n",
       "      <th>73</th>\n",
       "      <td>Harry Potter and the Sorcerer's Stone</td>\n",
       "      <td>7.6</td>\n",
       "      <td>65.0</td>\n",
       "      <td>[Adventure, Family, Fantasy]</td>\n",
       "      <td>2001</td>\n",
       "      <td>[Daniel Radcliffe, Rupert Grint, Richard Harri...</td>\n",
       "      <td>Chris Columbus</td>\n",
       "    </tr>\n",
       "    <tr>\n",
       "      <th>1123</th>\n",
       "      <td>Sea of Love</td>\n",
       "      <td>6.8</td>\n",
       "      <td>66.0</td>\n",
       "      <td>[Crime, Drama, Mystery]</td>\n",
       "      <td>1989</td>\n",
       "      <td>[Al Pacino, Ellen Barkin, John Goodman, Michae...</td>\n",
       "      <td>Harold Becker</td>\n",
       "    </tr>\n",
       "    <tr>\n",
       "      <th>418</th>\n",
       "      <td>Skyfall</td>\n",
       "      <td>7.8</td>\n",
       "      <td>81.0</td>\n",
       "      <td>[Action, Adventure, Thriller]</td>\n",
       "      <td>2012</td>\n",
       "      <td>[Daniel Craig, Javier Bardem, Naomie Harris, J...</td>\n",
       "      <td>Sam Mendes</td>\n",
       "    </tr>\n",
       "    <tr>\n",
       "      <th>1841</th>\n",
       "      <td>Maybe I Do</td>\n",
       "      <td>4.9</td>\n",
       "      <td>42.0</td>\n",
       "      <td>[Comedy, Romance]</td>\n",
       "      <td>2023</td>\n",
       "      <td>[Diane Keaton, William H. Macy, Richard Gere, ...</td>\n",
       "      <td>Michael Jacobs</td>\n",
       "    </tr>\n",
       "    <tr>\n",
       "      <th>1047</th>\n",
       "      <td>Minority Report</td>\n",
       "      <td>7.6</td>\n",
       "      <td>80.0</td>\n",
       "      <td>[Action, Crime, Mystery]</td>\n",
       "      <td>2002</td>\n",
       "      <td>[Tom Cruise, Colin Farrell, Samantha Morton, M...</td>\n",
       "      <td>Steven Spielberg</td>\n",
       "    </tr>\n",
       "    <tr>\n",
       "      <th>112</th>\n",
       "      <td>Gladiator</td>\n",
       "      <td>8.5</td>\n",
       "      <td>67.0</td>\n",
       "      <td>[Action, Adventure, Drama]</td>\n",
       "      <td>2000</td>\n",
       "      <td>[Russell Crowe, Joaquin Phoenix, Connie Nielse...</td>\n",
       "      <td>Ridley Scott</td>\n",
       "    </tr>\n",
       "    <tr>\n",
       "      <th>1559</th>\n",
       "      <td>The Divergent Series: Insurgent</td>\n",
       "      <td>6.2</td>\n",
       "      <td>42.0</td>\n",
       "      <td>[Action, Adventure, Sci-Fi]</td>\n",
       "      <td>2015</td>\n",
       "      <td>[Shailene Woodley, Ansel Elgort, Theo James, K...</td>\n",
       "      <td>Robert Schwentke</td>\n",
       "    </tr>\n",
       "  </tbody>\n",
       "</table>\n",
       "</div>"
      ],
      "text/plain": [
       "                                       title  rating  meta_score  \\\n",
       "910                          Children of Men     7.9        84.0   \n",
       "497                                 Blockers     6.2        69.0   \n",
       "155                                  Titanic     7.9        75.0   \n",
       "73     Harry Potter and the Sorcerer's Stone     7.6        65.0   \n",
       "1123                             Sea of Love     6.8        66.0   \n",
       "418                                  Skyfall     7.8        81.0   \n",
       "1841                              Maybe I Do     4.9        42.0   \n",
       "1047                         Minority Report     7.6        80.0   \n",
       "112                                Gladiator     8.5        67.0   \n",
       "1559         The Divergent Series: Insurgent     6.2        42.0   \n",
       "\n",
       "                              genre  year  \\\n",
       "910         [Action, Drama, Sci-Fi]  2006   \n",
       "497                 [Comedy, Drama]  2018   \n",
       "155                [Drama, Romance]  1997   \n",
       "73     [Adventure, Family, Fantasy]  2001   \n",
       "1123        [Crime, Drama, Mystery]  1989   \n",
       "418   [Action, Adventure, Thriller]  2012   \n",
       "1841              [Comedy, Romance]  2023   \n",
       "1047       [Action, Crime, Mystery]  2002   \n",
       "112      [Action, Adventure, Drama]  2000   \n",
       "1559    [Action, Adventure, Sci-Fi]  2015   \n",
       "\n",
       "                                                   cast          director  \n",
       "910   [Julianne Moore, Clive Owen, Chiwetel Ejiofor,...    Alfonso Cuarón  \n",
       "497   [Leslie Mann, John Cena, Ike Barinholtz, Kathr...        Kay Cannon  \n",
       "155   [Leonardo DiCaprio, Kate Winslet, Billy Zane, ...     James Cameron  \n",
       "73    [Daniel Radcliffe, Rupert Grint, Richard Harri...    Chris Columbus  \n",
       "1123  [Al Pacino, Ellen Barkin, John Goodman, Michae...     Harold Becker  \n",
       "418   [Daniel Craig, Javier Bardem, Naomie Harris, J...        Sam Mendes  \n",
       "1841  [Diane Keaton, William H. Macy, Richard Gere, ...    Michael Jacobs  \n",
       "1047  [Tom Cruise, Colin Farrell, Samantha Morton, M...  Steven Spielberg  \n",
       "112   [Russell Crowe, Joaquin Phoenix, Connie Nielse...      Ridley Scott  \n",
       "1559  [Shailene Woodley, Ansel Elgort, Theo James, K...  Robert Schwentke  "
      ]
     },
     "execution_count": 8,
     "metadata": {},
     "output_type": "execute_result"
    }
   ],
   "source": [
    "df.sample(10)"
   ]
  },
  {
   "cell_type": "markdown",
   "metadata": {},
   "source": [
    "## Revenue DataFrame"
   ]
  },
  {
   "cell_type": "markdown",
   "metadata": {},
   "source": [
    "Load the dataframe with the movie titles and the profit they have obtained:"
   ]
  },
  {
   "cell_type": "code",
   "execution_count": 11,
   "metadata": {},
   "outputs": [],
   "source": [
    "revenue_df = pd.read_csv('../data/raw/revenue_movies_dataset.csv') # read csv file"
   ]
  },
  {
   "cell_type": "markdown",
   "metadata": {},
   "source": [
    "Standarize the names of the movies to be able to merge the dataframes on the 'title' column."
   ]
  },
  {
   "cell_type": "code",
   "execution_count": 12,
   "metadata": {},
   "outputs": [],
   "source": [
    "def clean_title(title):\n",
    "    # Convertir a minúsculas\n",
    "    title = title.lower()\n",
    "    # Eliminar espacios en blanco al principio y al final\n",
    "    title = title.strip()\n",
    "    # Reemplazar caracteres especiales (opcional, depende de tus datos)\n",
    "    title = title.replace(\"'\", \"\")  # Eliminar apóstrofes\n",
    "    title = title.replace(\":\", \"\")  # Eliminar dos puntos\n",
    "    return title\n",
    "\n",
    "# Aplicar la función de limpieza en ambas columnas 'title'\n",
    "df['title'] = df['title'].apply(clean_title)\n",
    "revenue_df['title'] = revenue_df['title'].apply(clean_title)"
   ]
  },
  {
   "cell_type": "markdown",
   "metadata": {},
   "source": [
    "Clean the revenue DataFrame:"
   ]
  },
  {
   "cell_type": "code",
   "execution_count": 13,
   "metadata": {},
   "outputs": [],
   "source": [
    "revenue_df.drop_duplicates(subset='title', inplace=True)"
   ]
  },
  {
   "cell_type": "markdown",
   "metadata": {},
   "source": [
    "Merge both to obtain a complete DataFrame with all the necessary information about the movies, including their revenue."
   ]
  },
  {
   "cell_type": "code",
   "execution_count": 14,
   "metadata": {},
   "outputs": [
    {
     "data": {
      "text/html": [
       "<div>\n",
       "<style scoped>\n",
       "    .dataframe tbody tr th:only-of-type {\n",
       "        vertical-align: middle;\n",
       "    }\n",
       "\n",
       "    .dataframe tbody tr th {\n",
       "        vertical-align: top;\n",
       "    }\n",
       "\n",
       "    .dataframe thead th {\n",
       "        text-align: right;\n",
       "    }\n",
       "</style>\n",
       "<table border=\"1\" class=\"dataframe\">\n",
       "  <thead>\n",
       "    <tr style=\"text-align: right;\">\n",
       "      <th></th>\n",
       "      <th>title</th>\n",
       "      <th>rating</th>\n",
       "      <th>meta_score</th>\n",
       "      <th>genre</th>\n",
       "      <th>year</th>\n",
       "      <th>cast</th>\n",
       "      <th>director</th>\n",
       "      <th>revenue</th>\n",
       "    </tr>\n",
       "  </thead>\n",
       "  <tbody>\n",
       "    <tr>\n",
       "      <th>1478</th>\n",
       "      <td>a thousand and one</td>\n",
       "      <td>7.0</td>\n",
       "      <td>81.0</td>\n",
       "      <td>[Crime, Drama]</td>\n",
       "      <td>2023</td>\n",
       "      <td>[Teyana Taylor, Aaron Kingsley Adetola, Aven C...</td>\n",
       "      <td>A.V. Rockwell</td>\n",
       "      <td>0</td>\n",
       "    </tr>\n",
       "    <tr>\n",
       "      <th>315</th>\n",
       "      <td>catch me if you can</td>\n",
       "      <td>8.1</td>\n",
       "      <td>75.0</td>\n",
       "      <td>[Biography, Crime, Drama]</td>\n",
       "      <td>2002</td>\n",
       "      <td>[Leonardo DiCaprio, Tom Hanks, Christopher Wal...</td>\n",
       "      <td>Steven Spielberg</td>\n",
       "      <td>352114312</td>\n",
       "    </tr>\n",
       "    <tr>\n",
       "      <th>1025</th>\n",
       "      <td>fast five</td>\n",
       "      <td>7.3</td>\n",
       "      <td>66.0</td>\n",
       "      <td>[Action, Crime, Thriller]</td>\n",
       "      <td>2011</td>\n",
       "      <td>[Vin Diesel, Paul Walker, Dwayne Johnson, Jord...</td>\n",
       "      <td>Justin Lin</td>\n",
       "      <td>626137675</td>\n",
       "    </tr>\n",
       "    <tr>\n",
       "      <th>930</th>\n",
       "      <td>thirteen</td>\n",
       "      <td>6.8</td>\n",
       "      <td>70.0</td>\n",
       "      <td>[Drama]</td>\n",
       "      <td>2003</td>\n",
       "      <td>[Evan Rachel Wood, Holly Hunter, Nikki Reed, V...</td>\n",
       "      <td>Catherine Hardwicke</td>\n",
       "      <td>0</td>\n",
       "    </tr>\n",
       "    <tr>\n",
       "      <th>444</th>\n",
       "      <td>percy jackson &amp; the olympians the lightning thief</td>\n",
       "      <td>5.9</td>\n",
       "      <td>47.0</td>\n",
       "      <td>[Adventure, Family, Fantasy]</td>\n",
       "      <td>2010</td>\n",
       "      <td>[Logan Lerman, Kevin McKidd, Steve Coogan, Bra...</td>\n",
       "      <td>Chris Columbus</td>\n",
       "      <td>226497209</td>\n",
       "    </tr>\n",
       "    <tr>\n",
       "      <th>1275</th>\n",
       "      <td>a quiet place part ii</td>\n",
       "      <td>7.2</td>\n",
       "      <td>71.0</td>\n",
       "      <td>[Drama, Horror, Sci-Fi]</td>\n",
       "      <td>2020</td>\n",
       "      <td>[Emily Blunt, Millicent Simmonds, Cillian Murp...</td>\n",
       "      <td>John Krasinski</td>\n",
       "      <td>297400000</td>\n",
       "    </tr>\n",
       "    <tr>\n",
       "      <th>1202</th>\n",
       "      <td>silverado</td>\n",
       "      <td>7.2</td>\n",
       "      <td>64.0</td>\n",
       "      <td>[Action, Crime, Drama]</td>\n",
       "      <td>1985</td>\n",
       "      <td>[Kevin Kline, Scott Glenn, Kevin Costner, Rosa...</td>\n",
       "      <td>Lawrence Kasdan</td>\n",
       "      <td>32192570</td>\n",
       "    </tr>\n",
       "    <tr>\n",
       "      <th>1706</th>\n",
       "      <td>maybe i do</td>\n",
       "      <td>4.9</td>\n",
       "      <td>42.0</td>\n",
       "      <td>[Comedy, Romance]</td>\n",
       "      <td>2023</td>\n",
       "      <td>[Diane Keaton, William H. Macy, Richard Gere, ...</td>\n",
       "      <td>Michael Jacobs</td>\n",
       "      <td>4393504</td>\n",
       "    </tr>\n",
       "    <tr>\n",
       "      <th>563</th>\n",
       "      <td>guillermo del toros pinocchio</td>\n",
       "      <td>7.6</td>\n",
       "      <td>79.0</td>\n",
       "      <td>[Animation, Drama, Family]</td>\n",
       "      <td>2022</td>\n",
       "      <td>[Ewan McGregor, David Bradley, Gregory Mann, B...</td>\n",
       "      <td>Guillermo del ToroMark Gustafson</td>\n",
       "      <td>0</td>\n",
       "    </tr>\n",
       "    <tr>\n",
       "      <th>117</th>\n",
       "      <td>fight club</td>\n",
       "      <td>8.8</td>\n",
       "      <td>67.0</td>\n",
       "      <td>[Drama]</td>\n",
       "      <td>1999</td>\n",
       "      <td>[Brad Pitt, Edward Norton, Meat Loaf, Zach Gre...</td>\n",
       "      <td>David Fincher</td>\n",
       "      <td>100853753</td>\n",
       "    </tr>\n",
       "  </tbody>\n",
       "</table>\n",
       "</div>"
      ],
      "text/plain": [
       "                                                  title  rating  meta_score  \\\n",
       "1478                                 a thousand and one     7.0        81.0   \n",
       "315                                 catch me if you can     8.1        75.0   \n",
       "1025                                          fast five     7.3        66.0   \n",
       "930                                            thirteen     6.8        70.0   \n",
       "444   percy jackson & the olympians the lightning thief     5.9        47.0   \n",
       "1275                              a quiet place part ii     7.2        71.0   \n",
       "1202                                          silverado     7.2        64.0   \n",
       "1706                                         maybe i do     4.9        42.0   \n",
       "563                       guillermo del toros pinocchio     7.6        79.0   \n",
       "117                                          fight club     8.8        67.0   \n",
       "\n",
       "                             genre  year  \\\n",
       "1478                [Crime, Drama]  2023   \n",
       "315      [Biography, Crime, Drama]  2002   \n",
       "1025     [Action, Crime, Thriller]  2011   \n",
       "930                        [Drama]  2003   \n",
       "444   [Adventure, Family, Fantasy]  2010   \n",
       "1275       [Drama, Horror, Sci-Fi]  2020   \n",
       "1202        [Action, Crime, Drama]  1985   \n",
       "1706             [Comedy, Romance]  2023   \n",
       "563     [Animation, Drama, Family]  2022   \n",
       "117                        [Drama]  1999   \n",
       "\n",
       "                                                   cast  \\\n",
       "1478  [Teyana Taylor, Aaron Kingsley Adetola, Aven C...   \n",
       "315   [Leonardo DiCaprio, Tom Hanks, Christopher Wal...   \n",
       "1025  [Vin Diesel, Paul Walker, Dwayne Johnson, Jord...   \n",
       "930   [Evan Rachel Wood, Holly Hunter, Nikki Reed, V...   \n",
       "444   [Logan Lerman, Kevin McKidd, Steve Coogan, Bra...   \n",
       "1275  [Emily Blunt, Millicent Simmonds, Cillian Murp...   \n",
       "1202  [Kevin Kline, Scott Glenn, Kevin Costner, Rosa...   \n",
       "1706  [Diane Keaton, William H. Macy, Richard Gere, ...   \n",
       "563   [Ewan McGregor, David Bradley, Gregory Mann, B...   \n",
       "117   [Brad Pitt, Edward Norton, Meat Loaf, Zach Gre...   \n",
       "\n",
       "                              director    revenue  \n",
       "1478                     A.V. Rockwell          0  \n",
       "315                   Steven Spielberg  352114312  \n",
       "1025                        Justin Lin  626137675  \n",
       "930                Catherine Hardwicke          0  \n",
       "444                     Chris Columbus  226497209  \n",
       "1275                    John Krasinski  297400000  \n",
       "1202                   Lawrence Kasdan   32192570  \n",
       "1706                    Michael Jacobs    4393504  \n",
       "563   Guillermo del ToroMark Gustafson          0  \n",
       "117                      David Fincher  100853753  "
      ]
     },
     "execution_count": 14,
     "metadata": {},
     "output_type": "execute_result"
    }
   ],
   "source": [
    "# Unir df original con el revenue_df\n",
    "df_merged = pd.merge(df, revenue_df, on='title', how='inner')\n",
    "df_merged.sample(10)"
   ]
  },
  {
   "cell_type": "code",
   "execution_count": 15,
   "metadata": {},
   "outputs": [
    {
     "data": {
      "text/plain": [
       "(1805, 8)"
      ]
     },
     "execution_count": 15,
     "metadata": {},
     "output_type": "execute_result"
    }
   ],
   "source": [
    "df_merged.shape"
   ]
  },
  {
   "cell_type": "markdown",
   "metadata": {},
   "source": [
    "Save the result in a .csv file."
   ]
  },
  {
   "cell_type": "code",
   "execution_count": 17,
   "metadata": {},
   "outputs": [],
   "source": [
    "df_merged.to_csv('../data/top_movies_cleaned.csv', index=False)"
   ]
  }
 ],
 "metadata": {
  "kernelspec": {
   "display_name": "base",
   "language": "python",
   "name": "python3"
  },
  "language_info": {
   "codemirror_mode": {
    "name": "ipython",
    "version": 3
   },
   "file_extension": ".py",
   "mimetype": "text/x-python",
   "name": "python",
   "nbconvert_exporter": "python",
   "pygments_lexer": "ipython3",
   "version": "3.12.4"
  }
 },
 "nbformat": 4,
 "nbformat_minor": 2
}
